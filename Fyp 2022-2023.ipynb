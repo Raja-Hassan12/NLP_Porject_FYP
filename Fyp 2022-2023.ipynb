{
 "cells": [
  {
   "cell_type": "markdown",
   "id": "6262659c",
   "metadata": {},
   "source": [
    "# Importing library"
   ]
  },
  {
   "cell_type": "code",
   "execution_count": 1,
   "id": "77b23b33",
   "metadata": {},
   "outputs": [
    {
     "name": "stdout",
     "output_type": "stream",
     "text": [
      "Requirement already satisfied: moviepy in c:\\users\\hp\\anaconda3\\lib\\site-packages (1.0.3)\n",
      "Requirement already satisfied: requests<3.0,>=2.8.1 in c:\\users\\hp\\anaconda3\\lib\\site-packages (from moviepy) (2.27.1)\n",
      "Requirement already satisfied: imageio-ffmpeg>=0.2.0 in c:\\users\\hp\\anaconda3\\lib\\site-packages (from moviepy) (0.4.7)\n",
      "Requirement already satisfied: tqdm<5.0,>=4.11.2 in c:\\users\\hp\\anaconda3\\lib\\site-packages (from moviepy) (4.64.0)\n",
      "Requirement already satisfied: proglog<=1.0.0 in c:\\users\\hp\\anaconda3\\lib\\site-packages (from moviepy) (0.1.10)\n",
      "Requirement already satisfied: numpy>=1.17.3 in c:\\users\\hp\\anaconda3\\lib\\site-packages (from moviepy) (1.21.5)\n",
      "Requirement already satisfied: imageio<3.0,>=2.5 in c:\\users\\hp\\anaconda3\\lib\\site-packages (from moviepy) (2.9.0)\n",
      "Collecting decorator<5.0,>=4.0.2\n",
      "  Using cached decorator-4.4.2-py2.py3-none-any.whl (9.2 kB)\n",
      "Requirement already satisfied: pillow in c:\\users\\hp\\anaconda3\\lib\\site-packages (from imageio<3.0,>=2.5->moviepy) (9.0.1)\n",
      "Requirement already satisfied: charset-normalizer~=2.0.0 in c:\\users\\hp\\anaconda3\\lib\\site-packages (from requests<3.0,>=2.8.1->moviepy) (2.0.4)\n",
      "Requirement already satisfied: urllib3<1.27,>=1.21.1 in c:\\users\\hp\\anaconda3\\lib\\site-packages (from requests<3.0,>=2.8.1->moviepy) (1.26.9)\n",
      "Requirement already satisfied: idna<4,>=2.5 in c:\\users\\hp\\anaconda3\\lib\\site-packages (from requests<3.0,>=2.8.1->moviepy) (2.10)\n",
      "Requirement already satisfied: certifi>=2017.4.17 in c:\\users\\hp\\anaconda3\\lib\\site-packages (from requests<3.0,>=2.8.1->moviepy) (2022.9.24)\n",
      "Requirement already satisfied: colorama in c:\\users\\hp\\anaconda3\\lib\\site-packages (from tqdm<5.0,>=4.11.2->moviepy) (0.4.4)\n",
      "Installing collected packages: decorator\n",
      "  Attempting uninstall: decorator\n",
      "    Found existing installation: decorator 5.1.1\n",
      "    Uninstalling decorator-5.1.1:\n",
      "      Successfully uninstalled decorator-5.1.1\n",
      "Successfully installed decorator-4.4.2\n",
      "Note: you may need to restart the kernel to use updated packages.\n"
     ]
    }
   ],
   "source": [
    "pip install moviepy"
   ]
  },
  {
   "cell_type": "code",
   "execution_count": 2,
   "id": "7a44428b",
   "metadata": {},
   "outputs": [],
   "source": [
    "# Python code to convert video to audio\n",
    "import moviepy.editor as mp"
   ]
  },
  {
   "cell_type": "code",
   "execution_count": null,
   "id": "95ba057f",
   "metadata": {},
   "outputs": [],
   "source": [
    "# Insert Local Video File Path\n",
    "clip = mp.VideoFileClip(r\"C:\\Users\\HP\\Prove Them Wrong.mkv\")\n",
    "\n",
    "# Insert Local Audio File Path\n",
    "clip.audio.write_audiofile(r\"C:\\Users\\HP\\Prove Them Wrong.wav\")\n"
   ]
  },
  {
   "cell_type": "code",
   "execution_count": 3,
   "id": "ef365559",
   "metadata": {},
   "outputs": [],
   "source": [
    "# importing libraries \n",
    "import speech_recognition as sr \n",
    "import os \n",
    "from pydub import AudioSegment\n",
    "from pydub.silence import split_on_silence"
   ]
  },
  {
   "cell_type": "code",
   "execution_count": 4,
   "id": "24c02c51",
   "metadata": {},
   "outputs": [],
   "source": [
    "\n",
    "# create a speech recognition object\n",
    "r = sr.Recognizer()\n",
    "\n",
    "# a function that splits the audio file into chunks\n",
    "# and applies speech recognition\n",
    "def get_large_audio_transcription(path):\n",
    "    \"\"\"\n",
    "    Splitting the large audio file into chunks\n",
    "    and apply speech recognition on each of these chunks\n",
    "    \"\"\"\n",
    "    # open the audio file using pydub\n",
    "    sound = AudioSegment.from_wav(path)  \n",
    "    # split audio sound where silence is 700 miliseconds or more and get chunks\n",
    "    chunks = split_on_silence(sound,\n",
    "        # experiment with this value for your target audio file\n",
    "        min_silence_len = 1500,\n",
    "        # adjust this per requirement\n",
    "        silence_thresh = sound.dBFS-32,\n",
    "        # keep the silence for 1 second, adjustable as well\n",
    "        keep_silence=1200,\n",
    "    )\n",
    "    folder_name = \"audio-chunks\"\n",
    "    # create a directory to store the audio chunks\n",
    "    if not os.path.isdir(folder_name):\n",
    "        os.mkdir(folder_name)\n",
    "    whole_text = \"\"\n",
    "    # process each chunk \n",
    "    for i, audio_chunk in enumerate(chunks, start=1):\n",
    "        # export audio chunk and save it in\n",
    "        # the `folder_name` directory.\n",
    "        chunk_filename = os.path.join(folder_name, f\"chunk{i}.wav\")\n",
    "        audio_chunk.export(chunk_filename, format=\"wav\")\n",
    "        # recognize the chunk\n",
    "        with sr.AudioFile(chunk_filename) as source:\n",
    "            audio_listened = r.record(source)\n",
    "            # try converting it to text\n",
    "            try:\n",
    "                text = r.recognize_google(audio_listened)\n",
    "            except sr.UnknownValueError as e:\n",
    "                print(\"Error:\", str(e))\n",
    "            else:\n",
    "                text = f\"{text.capitalize()}. \"\n",
    "                print(chunk_filename, \":\", text)\n",
    "                whole_text += text\n",
    "    # return the text for all chunks detected\n",
    "    return whole_text"
   ]
  },
  {
   "cell_type": "code",
   "execution_count": 5,
   "id": "738e2e5c",
   "metadata": {},
   "outputs": [
    {
     "name": "stdout",
     "output_type": "stream",
     "text": [
      "audio-chunks\\chunk1.wav : Just just just just give an unknown unknown fear of losing people so i wrote down one by one all those years and i decided that i am going to overcome these fears one at a time you know what was my biggest fear but the day i decided that this is nothing but my dear i liberated myself by setting a tree and i made myself emotionally so strong that they are you got the news that you're getting married i send text so happy for you and wish you all the best and know that i pray for him was i won't be able to be a mother and i was fighting for me but they realise there are so many children in the world of the what is acceptance is no point of crying just go and adopt one and that's what i did you be surprised to know another behaviour that i had to me it was facing people are used to hide myself i was on bed with 2 years are used to keep the door closed are used to pretend that i am not going to meet anyone tell you that i am sleeping you know why because i couldn't stand the sympathy that they had for me to use to treat me like a fish what are you smile i used it means that i was tired of this question as well besides didn't really i am fine again and i am here speaking to all these amazing people because i have overcome with rear end up being on the future what's the most painful thing people think that there will not be accepted by the people because we in the world of perfect people are in perfect so i decided that is just starting in ngo for disability awareness which i know will not help anyone i started to appear more in public i decided i am going to join the national tv of pakistan and i became the national goodwill ambassador to un women pakistan i was featured in bbc 104 2015 30 under 30 2016 so when you accept yourself the way you are recognised. \n"
     ]
    },
    {
     "data": {
      "text/plain": [
       "\"Just just just just give an unknown unknown fear of losing people so i wrote down one by one all those years and i decided that i am going to overcome these fears one at a time you know what was my biggest fear but the day i decided that this is nothing but my dear i liberated myself by setting a tree and i made myself emotionally so strong that they are you got the news that you're getting married i send text so happy for you and wish you all the best and know that i pray for him was i won't be able to be a mother and i was fighting for me but they realise there are so many children in the world of the what is acceptance is no point of crying just go and adopt one and that's what i did you be surprised to know another behaviour that i had to me it was facing people are used to hide myself i was on bed with 2 years are used to keep the door closed are used to pretend that i am not going to meet anyone tell you that i am sleeping you know why because i couldn't stand the sympathy that they had for me to use to treat me like a fish what are you smile i used it means that i was tired of this question as well besides didn't really i am fine again and i am here speaking to all these amazing people because i have overcome with rear end up being on the future what's the most painful thing people think that there will not be accepted by the people because we in the world of perfect people are in perfect so i decided that is just starting in ngo for disability awareness which i know will not help anyone i started to appear more in public i decided i am going to join the national tv of pakistan and i became the national goodwill ambassador to un women pakistan i was featured in bbc 104 2015 30 under 30 2016 so when you accept yourself the way you are recognised. \""
      ]
     },
     "execution_count": 5,
     "metadata": {},
     "output_type": "execute_result"
    }
   ],
   "source": [
    "#after dividing video audio to chunks then get the text\n",
    "\n",
    "path = \"Prove Them Wrong.wav\"\n",
    "text = (get_large_audio_transcription(path))\n",
    "text"
   ]
  },
  {
   "cell_type": "code",
   "execution_count": 1,
   "id": "620106d4",
   "metadata": {},
   "outputs": [],
   "source": [
    "import re\n",
    "\n",
    "\n",
    "def splitParagraphIntoSentences(paragraph):\n",
    "    ''' break a paragraph into sentences\n",
    "    and return a list '''\n",
    "\n",
    "    sentenceEnders = re.compile('[.!?]')\n",
    "    sentenceList = sentenceEnders.split(paragraph)\n",
    "    return sentenceList\n",
    "\n",
    "if __name__ == '__main__':\n",
    "    p = \"Just just just just give an unknown unknown fear of losing people so i wrote down one by one all those years . And i decided that i am going to overcome these fears. One at a time you know what was my biggest fear but the day i decided that this is nothing but my dear i liberated myself by setting a tree. And i made myself emotionally so strong that they are you got the news that you're getting married i send text so happy for you and wish you all the best. And know that i pray for him was i won't be able to be a mother and i was fighting for me but they realise there are so many children in the world of the what is acceptance is no point of crying . Just go and adopt one and that's what i did you be surprised to know another behaviour that i had to me it was facing people are used to hide myself. I was on bed with 2 years are used to keep the door closed are used to pretend that i am not going to meet anyone tell you that i am sleeping. You know why because i couldn't stand the sympathy that they had for me to use to treat me like a fish what are you smile ? i used it means that i was tired of this question as well besides didn't really i am fine again and i am here speaking to all these amazing people. Because i have overcome with rear end up being on the future what's the most painful thing people think that there will not be accepted by the people because we in the world of perfect people are in perfect , so i decided that is just starting in ngo for disability awareness which i know will not help anyone i started to appear more in public. I decided i am going to join the national tv of pakistan and i became the national goodwill ambassador to un women pakistan. i was featured in bbc 104 2015 30 under 30 2016 so when you accept yourself the way you are recognised. \"\n",
    "\n",
    "    sentences = splitParagraphIntoSentences(p)\n",
    "\n",
    "    file = open('another.txt', \"w\")\n",
    "\n",
    "    for s in sentences:\n",
    "        if s.strip():\n",
    "            file.write('\"' + s.strip() + '\"\\n')  # Add a newline after each sentence\n",
    "\n",
    "    file.close()"
   ]
  },
  {
   "cell_type": "code",
   "execution_count": 2,
   "id": "158cdcad",
   "metadata": {},
   "outputs": [
    {
     "data": {
      "text/plain": [
       "['Just just just just give an unknown unknown fear of losing people so i wrote down one by one all those years ',\n",
       " ' And i decided that i am going to overcome these fears',\n",
       " ' One at a time you know what was my biggest fear but the day i decided that this is nothing but my dear i liberated myself by setting a tree',\n",
       " \" And i made myself emotionally so strong that they are you got the news that you're getting married i send text so happy for you and wish you all the best\",\n",
       " \" And know that i pray for him was i won't be able to be a mother and i was fighting for me but they realise there are so many children in the world of the what is acceptance is no point of crying \",\n",
       " \" Just go and adopt one and that's what i did you be surprised to know another behaviour that i had to me it was facing people are used to hide myself\",\n",
       " ' I was on bed with 2 years are used to keep the door closed are used to pretend that i am not going to meet anyone tell you that i am sleeping',\n",
       " \" You know why because i couldn't stand the sympathy that they had for me to use to treat me like a fish what are you smile \",\n",
       " \" i used it means that i was tired of this question as well besides didn't really i am fine again and i am here speaking to all these amazing people\",\n",
       " \" Because i have overcome with rear end up being on the future what's the most painful thing people think that there will not be accepted by the people because we in the world of perfect people are in perfect , so i decided that is just starting in ngo for disability awareness which i know will not help anyone i started to appear more in public\",\n",
       " ' I decided i am going to join the national tv of pakistan and i became the national goodwill ambassador to un women pakistan',\n",
       " ' i was featured in bbc 104 2015 30 under 30 2016 so when you accept yourself the way you are recognised',\n",
       " ' ']"
      ]
     },
     "execution_count": 2,
     "metadata": {},
     "output_type": "execute_result"
    }
   ],
   "source": [
    "splitParagraphIntoSentences(p)"
   ]
  },
  {
   "cell_type": "code",
   "execution_count": 6,
   "id": "79fca3c3",
   "metadata": {},
   "outputs": [
    {
     "name": "stdout",
     "output_type": "stream",
     "text": [
      "Collecting googletrans==3.1.0a0Note: you may need to restart the kernel to use updated packages.\n",
      "\n",
      "  Downloading googletrans-3.1.0a0.tar.gz (19 kB)\n",
      "Requirement already satisfied: httpx==0.13.3 in c:\\users\\hp\\anaconda3\\lib\\site-packages (from googletrans==3.1.0a0) (0.13.3)\n",
      "Requirement already satisfied: httpcore==0.9.* in c:\\users\\hp\\anaconda3\\lib\\site-packages (from httpx==0.13.3->googletrans==3.1.0a0) (0.9.1)\n",
      "Requirement already satisfied: idna==2.* in c:\\users\\hp\\anaconda3\\lib\\site-packages (from httpx==0.13.3->googletrans==3.1.0a0) (2.10)\n",
      "Requirement already satisfied: certifi in c:\\users\\hp\\anaconda3\\lib\\site-packages (from httpx==0.13.3->googletrans==3.1.0a0) (2022.9.24)\n",
      "Requirement already satisfied: sniffio in c:\\users\\hp\\anaconda3\\lib\\site-packages (from httpx==0.13.3->googletrans==3.1.0a0) (1.2.0)\n",
      "Requirement already satisfied: hstspreload in c:\\users\\hp\\anaconda3\\lib\\site-packages (from httpx==0.13.3->googletrans==3.1.0a0) (2022.11.1)\n",
      "Requirement already satisfied: rfc3986<2,>=1.3 in c:\\users\\hp\\anaconda3\\lib\\site-packages (from httpx==0.13.3->googletrans==3.1.0a0) (1.5.0)\n",
      "Requirement already satisfied: chardet==3.* in c:\\users\\hp\\anaconda3\\lib\\site-packages (from httpx==0.13.3->googletrans==3.1.0a0) (3.0.4)\n",
      "Requirement already satisfied: h2==3.* in c:\\users\\hp\\anaconda3\\lib\\site-packages (from httpcore==0.9.*->httpx==0.13.3->googletrans==3.1.0a0) (3.2.0)\n",
      "Requirement already satisfied: h11<0.10,>=0.8 in c:\\users\\hp\\anaconda3\\lib\\site-packages (from httpcore==0.9.*->httpx==0.13.3->googletrans==3.1.0a0) (0.9.0)\n",
      "Requirement already satisfied: hpack<4,>=3.0 in c:\\users\\hp\\anaconda3\\lib\\site-packages (from h2==3.*->httpcore==0.9.*->httpx==0.13.3->googletrans==3.1.0a0) (3.0.0)\n",
      "Requirement already satisfied: hyperframe<6,>=5.2.0 in c:\\users\\hp\\anaconda3\\lib\\site-packages (from h2==3.*->httpcore==0.9.*->httpx==0.13.3->googletrans==3.1.0a0) (5.2.0)\n",
      "Building wheels for collected packages: googletrans\n",
      "  Building wheel for googletrans (setup.py): started\n",
      "  Building wheel for googletrans (setup.py): finished with status 'done'\n",
      "  Created wheel for googletrans: filename=googletrans-3.1.0a0-py3-none-any.whl size=16382 sha256=72614c4644f8d567ca3091ecfe6b6a33e326f0c65f4f3d8184260b250ae415ce\n",
      "  Stored in directory: c:\\users\\hp\\appdata\\local\\pip\\cache\\wheels\\ae\\e1\\6c\\5137bc3f35aa130deea71575e165cc4f4f0680a88f3d90a636\n",
      "Successfully built googletrans\n",
      "Installing collected packages: googletrans\n",
      "  Attempting uninstall: googletrans\n",
      "    Found existing installation: googletrans 3.0.0\n",
      "    Uninstalling googletrans-3.0.0:\n",
      "      Successfully uninstalled googletrans-3.0.0\n",
      "Successfully installed googletrans-3.1.0a0\n"
     ]
    }
   ],
   "source": [
    "pip install googletrans==3.1.0a0"
   ]
  },
  {
   "cell_type": "code",
   "execution_count": 7,
   "id": "0a0cb6ba",
   "metadata": {},
   "outputs": [],
   "source": [
    "from googletrans import Translator, constants\n",
    "from pprint import pprint"
   ]
  },
  {
   "cell_type": "code",
   "execution_count": 8,
   "id": "19584012",
   "metadata": {},
   "outputs": [],
   "source": [
    "# init the Google API translator\n",
    "translator = Translator()"
   ]
  },
  {
   "cell_type": "code",
   "execution_count": 9,
   "id": "650317af",
   "metadata": {},
   "outputs": [
    {
     "name": "stdout",
     "output_type": "stream",
     "text": [
      "In English : \n",
      " Just just just just give an unknown unknown fear of losing people so i wrote down one by one all those years and i decided that i am going to overcome these fears one at a time you know what was my biggest fear but the day i decided that this is nothing but my dear i liberated myself by setting a tree and i made myself emotionally so strong that they are you got the news that you're getting married i send text so happy for you and wish you all the best and know that i pray for him was i won't be able to be a mother and i was fighting for me but they realise there are so many children in the world of the what is acceptance is no point of crying just go and adopt one and that's what i did you be surprised to know another behaviour that i had to me it was facing people are used to hide myself i was on bed with 2 years are used to keep the door closed are used to pretend that i am not going to meet anyone tell you that i am sleeping you know why because i couldn't stand the sympathy that they had for me to use to treat me like a fish what are you smile i used it means that i was tired of this question as well besides didn't really i am fine again and i am here speaking to all these amazing people because i have overcome with rear end up being on the future what's the most painful thing people think that there will not be accepted by the people because we in the world of perfect people are in perfect so i decided that is just starting in ngo for disability awareness which i know will not help anyone i started to appear more in public i decided i am going to join the national tv of pakistan and i became the national goodwill ambassador to un women pakistan i was featured in bbc 104 2015 30 under 30 2016 so when you accept yourself the way you are recognised. \n",
      "\n",
      "In Arabic : \n",
      " فقط فقط أعط خوفًا غير معروف من فقدان الأشخاص ، لذلك كتبت واحدًا تلو الآخر كل تلك السنوات وقررت أنني سأتغلب على هذه المخاوف واحدًا تلو الآخر ، أنت تعرف ما هو أكبر مخاوفي ولكن في اليوم الذي قررت فيه ذلك هذا ليس سوى عزيزتي ، لقد حررت نفسي من خلال وضع شجرة وجعلت نفسي قويًا جدًا من الناحية العاطفية لدرجة أنهم تلقوا أخبارًا عن زواجك ، وأرسل رسالة نصية سعيدة للغاية من أجلك وأتمنى لك كل التوفيق وأعلم أنني صلي من أجله لأنني لن أستطيع أن أكون أماً وكنت أقاتل من أجلي لكنهم يدركون أن هناك الكثير من الأطفال في العالم ، ما هو القبول لا فائدة من البكاء ، فقط اذهب وتبني واحدة وهذا ما أنا عليه هل فوجئت بمعرفة سلوك آخر كان عليّ أنه كان يواجه الناس اعتادوا إخفاء نفسي كنت على السرير مع عامين تستخدم لإبقاء الباب مغلقًا تستخدم للتظاهر بأنني لن أقابل أي شخص يخبرك أني أنام ، تعرف لماذا لأنني لم أستطع تحمل التعاطف الذي ر مرحبًا ، كان علي أن أستخدمها في معاملتي كسمكة ، ما هي ابتسامتك ، فهذا يعني أنني سئمت من هذا السؤال بالإضافة إلى أنني لست بخير حقًا مرة أخرى وأنا هنا أتحدث إلى كل هؤلاء الأشخاص الرائعين لأنني لقد تغلبت مع النهاية الخلفية على المستقبل ، ما هو الشيء الأكثر إيلامًا الذي يعتقد الناس أنه لن يتم قبوله من قبل الناس لأننا في عالم الأشخاص المثاليين في حالة مثالية ، لذلك قررت أن هذا هو مجرد البدء في المنظمات غير الحكومية للتوعية بالإعاقة والتي أعلم أنني لن أساعد أي شخص بدأت في الظهور بشكل أكبر في الأماكن العامة ، فقد قررت أنني سألتحق بالتلفزيون الوطني لباكستان وأصبحت سفيرة النوايا الحسنة الوطنية لدى الأمم المتحدة للمرأة الباكستانية ، لقد ظهرت في بي بي سي 104 2015 30 تحت 30 2016 لذلك عندما كنت تقبل نفسك بالطريقة التي يتم التعرف عليك بها.\n"
     ]
    }
   ],
   "source": [
    "from googletrans import Translator\n",
    "\n",
    "translator = Translator()\n",
    "\n",
    "txtarabic = translator.translate(text, dest='ar')\n",
    "\n",
    "print('In English : \\n', text)\n",
    "print('\\nIn Arabic : \\n',txtarabic.text)"
   ]
  },
  {
   "cell_type": "code",
   "execution_count": 10,
   "id": "cee05ef2",
   "metadata": {},
   "outputs": [
    {
     "data": {
      "text/plain": [
       "1"
      ]
     },
     "execution_count": 10,
     "metadata": {},
     "output_type": "execute_result"
    }
   ],
   "source": [
    "from gtts import gTTS\n",
    "\n",
    "  \n",
    "# Language in which you want to convert\n",
    "language = 'ar'\n",
    "  \n",
    "# Passing the text and language to the engine, \n",
    "# here we have marked slow=False. Which tells \n",
    "# the module that the converted audio should \n",
    "# have a high speed\n",
    "myobj = gTTS(text=txtarabic.text, lang=language, slow=False)\n",
    "  \n",
    "# Saving the converted audio in a mp3 file named\n",
    "# welcome \n",
    "myobj.save(\"Sample.mp3\")\n",
    "  \n",
    "# Playing the converted file\n",
    "os.system(\"mpg321 Sample.mp3\")"
   ]
  },
  {
   "cell_type": "code",
   "execution_count": null,
   "id": "c9e1e6e1",
   "metadata": {},
   "outputs": [],
   "source": []
  }
 ],
 "metadata": {
  "kernelspec": {
   "display_name": "Python 3 (ipykernel)",
   "language": "python",
   "name": "python3"
  },
  "language_info": {
   "codemirror_mode": {
    "name": "ipython",
    "version": 3
   },
   "file_extension": ".py",
   "mimetype": "text/x-python",
   "name": "python",
   "nbconvert_exporter": "python",
   "pygments_lexer": "ipython3",
   "version": "3.9.12"
  }
 },
 "nbformat": 4,
 "nbformat_minor": 5
}
